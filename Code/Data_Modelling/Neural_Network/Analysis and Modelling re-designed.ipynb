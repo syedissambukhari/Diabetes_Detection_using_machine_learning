{
 "cells": [
  {
   "cell_type": "code",
   "execution_count": 30,
   "metadata": {},
   "outputs": [],
   "source": [
    "#import modules from pandas and numpy\n",
    "import numpy as np\n",
    "import pandas as pd\n",
    "\n",
    "#import modules for visualization\n",
    "import matplotlib.pyplot as plt\n",
    "%matplotlib inline\n",
    "import seaborn as sns\n",
    "\n",
    "#import module for train_test_split\n",
    "import sklearn as skl\n",
    "from sklearn.model_selection import train_test_split\n",
    "\n",
    "#import module for k-fold cross validation\n",
    "from sklearn.model_selection import cross_val_score\n",
    "from sklearn.model_selection import KFold\n",
    "\n",
    "#import modules for encoding\n",
    "from sklearn.preprocessing import LabelEncoder\n",
    "\n",
    "#import scikit learn module for the pipeline\n",
    "from sklearn.pipeline import Pipeline\n",
    "\n",
    "\n",
    "# import tensorflow.compat.v1 as tf\n",
    "# tf.disable_v2_behavior()\n"
   ]
  },
  {
   "cell_type": "code",
   "execution_count": 31,
   "metadata": {},
   "outputs": [],
   "source": [
    "#import modules from keras\n",
    "from keras.models import Sequential\n",
    "from keras.layers import Dense\n",
    "from keras.utils import np_utils\n",
    "from keras.wrappers.scikit_learn import KerasClassifier"
   ]
  },
  {
   "cell_type": "code",
   "execution_count": 32,
   "metadata": {},
   "outputs": [],
   "source": [
    "# set the seed on number to get reproducible results\n",
    "random_seed=7\n",
    "np.random.seed(random_seed)"
   ]
  },
  {
   "cell_type": "code",
   "execution_count": 33,
   "metadata": {},
   "outputs": [],
   "source": [
    "#load the data_set into the dataframe\n",
    "pima_df=pd.read_csv(\"F:\\Syed Issam Bukhari\\Diabetes Detection\\Data\\Processed_Data\\diabetes.csv\",header=None, names=[\"preg\",\"plas\",\"pres\",\"skin\",\"test\",\"mass\",\"pedi\",\"age\",\"class\"])\n"
   ]
  },
  {
   "cell_type": "code",
   "execution_count": 34,
   "metadata": {},
   "outputs": [
    {
     "data": {
      "text/plain": [
       "preg     0\n",
       "plas     0\n",
       "pres     0\n",
       "skin     0\n",
       "test     0\n",
       "mass     0\n",
       "pedi     0\n",
       "age      0\n",
       "class    0\n",
       "dtype: int64"
      ]
     },
     "execution_count": 34,
     "metadata": {},
     "output_type": "execute_result"
    }
   ],
   "source": [
    "#Check if there are any null values\n",
    "pima_df.isnull().sum()"
   ]
  },
  {
   "cell_type": "markdown",
   "metadata": {},
   "source": [
    "# Exploratory Data Analysis on the data set"
   ]
  },
  {
   "cell_type": "code",
   "execution_count": 35,
   "metadata": {},
   "outputs": [
    {
     "data": {
      "text/plain": [
       "(768, 9)"
      ]
     },
     "execution_count": 35,
     "metadata": {},
     "output_type": "execute_result"
    }
   ],
   "source": [
    "#getting shape\n",
    "pima_df.shape"
   ]
  },
  {
   "cell_type": "code",
   "execution_count": 36,
   "metadata": {},
   "outputs": [
    {
     "data": {
      "text/html": [
       "<div>\n",
       "<style scoped>\n",
       "    .dataframe tbody tr th:only-of-type {\n",
       "        vertical-align: middle;\n",
       "    }\n",
       "\n",
       "    .dataframe tbody tr th {\n",
       "        vertical-align: top;\n",
       "    }\n",
       "\n",
       "    .dataframe thead th {\n",
       "        text-align: right;\n",
       "    }\n",
       "</style>\n",
       "<table border=\"1\" class=\"dataframe\">\n",
       "  <thead>\n",
       "    <tr style=\"text-align: right;\">\n",
       "      <th></th>\n",
       "      <th>preg</th>\n",
       "      <th>plas</th>\n",
       "      <th>pres</th>\n",
       "      <th>skin</th>\n",
       "      <th>test</th>\n",
       "      <th>mass</th>\n",
       "      <th>pedi</th>\n",
       "      <th>age</th>\n",
       "      <th>class</th>\n",
       "    </tr>\n",
       "  </thead>\n",
       "  <tbody>\n",
       "    <tr>\n",
       "      <th>0</th>\n",
       "      <td>6</td>\n",
       "      <td>148</td>\n",
       "      <td>72</td>\n",
       "      <td>35</td>\n",
       "      <td>0</td>\n",
       "      <td>33.6</td>\n",
       "      <td>0.627</td>\n",
       "      <td>50</td>\n",
       "      <td>1</td>\n",
       "    </tr>\n",
       "    <tr>\n",
       "      <th>1</th>\n",
       "      <td>1</td>\n",
       "      <td>85</td>\n",
       "      <td>66</td>\n",
       "      <td>29</td>\n",
       "      <td>0</td>\n",
       "      <td>26.6</td>\n",
       "      <td>0.351</td>\n",
       "      <td>31</td>\n",
       "      <td>0</td>\n",
       "    </tr>\n",
       "    <tr>\n",
       "      <th>2</th>\n",
       "      <td>8</td>\n",
       "      <td>183</td>\n",
       "      <td>64</td>\n",
       "      <td>0</td>\n",
       "      <td>0</td>\n",
       "      <td>23.3</td>\n",
       "      <td>0.672</td>\n",
       "      <td>32</td>\n",
       "      <td>1</td>\n",
       "    </tr>\n",
       "    <tr>\n",
       "      <th>3</th>\n",
       "      <td>1</td>\n",
       "      <td>89</td>\n",
       "      <td>66</td>\n",
       "      <td>23</td>\n",
       "      <td>94</td>\n",
       "      <td>28.1</td>\n",
       "      <td>0.167</td>\n",
       "      <td>21</td>\n",
       "      <td>0</td>\n",
       "    </tr>\n",
       "    <tr>\n",
       "      <th>4</th>\n",
       "      <td>0</td>\n",
       "      <td>137</td>\n",
       "      <td>40</td>\n",
       "      <td>35</td>\n",
       "      <td>168</td>\n",
       "      <td>43.1</td>\n",
       "      <td>2.288</td>\n",
       "      <td>33</td>\n",
       "      <td>1</td>\n",
       "    </tr>\n",
       "  </tbody>\n",
       "</table>\n",
       "</div>"
      ],
      "text/plain": [
       "   preg  plas  pres  skin  test  mass   pedi  age  class\n",
       "0     6   148    72    35     0  33.6  0.627   50      1\n",
       "1     1    85    66    29     0  26.6  0.351   31      0\n",
       "2     8   183    64     0     0  23.3  0.672   32      1\n",
       "3     1    89    66    23    94  28.1  0.167   21      0\n",
       "4     0   137    40    35   168  43.1  2.288   33      1"
      ]
     },
     "execution_count": 36,
     "metadata": {},
     "output_type": "execute_result"
    }
   ],
   "source": [
    "#Viewing the data\n",
    "pima_df.head()"
   ]
  },
  {
   "cell_type": "code",
   "execution_count": 37,
   "metadata": {},
   "outputs": [
    {
     "name": "stdout",
     "output_type": "stream",
     "text": [
      "<class 'pandas.core.frame.DataFrame'>\n",
      "RangeIndex: 768 entries, 0 to 767\n",
      "Data columns (total 9 columns):\n",
      "preg     768 non-null int64\n",
      "plas     768 non-null int64\n",
      "pres     768 non-null int64\n",
      "skin     768 non-null int64\n",
      "test     768 non-null int64\n",
      "mass     768 non-null float64\n",
      "pedi     768 non-null float64\n",
      "age      768 non-null int64\n",
      "class    768 non-null int64\n",
      "dtypes: float64(2), int64(7)\n",
      "memory usage: 54.1 KB\n"
     ]
    }
   ],
   "source": [
    "#information about the data\n",
    "pima_df.info()"
   ]
  },
  {
   "cell_type": "code",
   "execution_count": 38,
   "metadata": {},
   "outputs": [
    {
     "data": {
      "text/plain": [
       "preg       int64\n",
       "plas       int64\n",
       "pres       int64\n",
       "skin       int64\n",
       "test       int64\n",
       "mass     float64\n",
       "pedi     float64\n",
       "age        int64\n",
       "class      int64\n",
       "dtype: object"
      ]
     },
     "execution_count": 38,
     "metadata": {},
     "output_type": "execute_result"
    }
   ],
   "source": [
    "pima_df.dtypes"
   ]
  },
  {
   "cell_type": "code",
   "execution_count": 39,
   "metadata": {},
   "outputs": [
    {
     "data": {
      "text/html": [
       "<div>\n",
       "<style scoped>\n",
       "    .dataframe tbody tr th:only-of-type {\n",
       "        vertical-align: middle;\n",
       "    }\n",
       "\n",
       "    .dataframe tbody tr th {\n",
       "        vertical-align: top;\n",
       "    }\n",
       "\n",
       "    .dataframe thead th {\n",
       "        text-align: right;\n",
       "    }\n",
       "</style>\n",
       "<table border=\"1\" class=\"dataframe\">\n",
       "  <thead>\n",
       "    <tr style=\"text-align: right;\">\n",
       "      <th></th>\n",
       "      <th>preg</th>\n",
       "      <th>plas</th>\n",
       "      <th>pres</th>\n",
       "      <th>skin</th>\n",
       "      <th>test</th>\n",
       "      <th>mass</th>\n",
       "      <th>pedi</th>\n",
       "      <th>age</th>\n",
       "      <th>class</th>\n",
       "    </tr>\n",
       "  </thead>\n",
       "  <tbody>\n",
       "    <tr>\n",
       "      <th>count</th>\n",
       "      <td>768.000000</td>\n",
       "      <td>768.000000</td>\n",
       "      <td>768.000000</td>\n",
       "      <td>768.000000</td>\n",
       "      <td>768.000000</td>\n",
       "      <td>768.000000</td>\n",
       "      <td>768.000000</td>\n",
       "      <td>768.000000</td>\n",
       "      <td>768.000000</td>\n",
       "    </tr>\n",
       "    <tr>\n",
       "      <th>mean</th>\n",
       "      <td>3.845052</td>\n",
       "      <td>120.894531</td>\n",
       "      <td>69.105469</td>\n",
       "      <td>20.536458</td>\n",
       "      <td>79.799479</td>\n",
       "      <td>31.992578</td>\n",
       "      <td>0.471876</td>\n",
       "      <td>33.240885</td>\n",
       "      <td>0.348958</td>\n",
       "    </tr>\n",
       "    <tr>\n",
       "      <th>std</th>\n",
       "      <td>3.369578</td>\n",
       "      <td>31.972618</td>\n",
       "      <td>19.355807</td>\n",
       "      <td>15.952218</td>\n",
       "      <td>115.244002</td>\n",
       "      <td>7.884160</td>\n",
       "      <td>0.331329</td>\n",
       "      <td>11.760232</td>\n",
       "      <td>0.476951</td>\n",
       "    </tr>\n",
       "    <tr>\n",
       "      <th>min</th>\n",
       "      <td>0.000000</td>\n",
       "      <td>0.000000</td>\n",
       "      <td>0.000000</td>\n",
       "      <td>0.000000</td>\n",
       "      <td>0.000000</td>\n",
       "      <td>0.000000</td>\n",
       "      <td>0.078000</td>\n",
       "      <td>21.000000</td>\n",
       "      <td>0.000000</td>\n",
       "    </tr>\n",
       "    <tr>\n",
       "      <th>25%</th>\n",
       "      <td>1.000000</td>\n",
       "      <td>99.000000</td>\n",
       "      <td>62.000000</td>\n",
       "      <td>0.000000</td>\n",
       "      <td>0.000000</td>\n",
       "      <td>27.300000</td>\n",
       "      <td>0.243750</td>\n",
       "      <td>24.000000</td>\n",
       "      <td>0.000000</td>\n",
       "    </tr>\n",
       "    <tr>\n",
       "      <th>50%</th>\n",
       "      <td>3.000000</td>\n",
       "      <td>117.000000</td>\n",
       "      <td>72.000000</td>\n",
       "      <td>23.000000</td>\n",
       "      <td>30.500000</td>\n",
       "      <td>32.000000</td>\n",
       "      <td>0.372500</td>\n",
       "      <td>29.000000</td>\n",
       "      <td>0.000000</td>\n",
       "    </tr>\n",
       "    <tr>\n",
       "      <th>75%</th>\n",
       "      <td>6.000000</td>\n",
       "      <td>140.250000</td>\n",
       "      <td>80.000000</td>\n",
       "      <td>32.000000</td>\n",
       "      <td>127.250000</td>\n",
       "      <td>36.600000</td>\n",
       "      <td>0.626250</td>\n",
       "      <td>41.000000</td>\n",
       "      <td>1.000000</td>\n",
       "    </tr>\n",
       "    <tr>\n",
       "      <th>max</th>\n",
       "      <td>17.000000</td>\n",
       "      <td>199.000000</td>\n",
       "      <td>122.000000</td>\n",
       "      <td>99.000000</td>\n",
       "      <td>846.000000</td>\n",
       "      <td>67.100000</td>\n",
       "      <td>2.420000</td>\n",
       "      <td>81.000000</td>\n",
       "      <td>1.000000</td>\n",
       "    </tr>\n",
       "  </tbody>\n",
       "</table>\n",
       "</div>"
      ],
      "text/plain": [
       "             preg        plas        pres        skin        test        mass  \\\n",
       "count  768.000000  768.000000  768.000000  768.000000  768.000000  768.000000   \n",
       "mean     3.845052  120.894531   69.105469   20.536458   79.799479   31.992578   \n",
       "std      3.369578   31.972618   19.355807   15.952218  115.244002    7.884160   \n",
       "min      0.000000    0.000000    0.000000    0.000000    0.000000    0.000000   \n",
       "25%      1.000000   99.000000   62.000000    0.000000    0.000000   27.300000   \n",
       "50%      3.000000  117.000000   72.000000   23.000000   30.500000   32.000000   \n",
       "75%      6.000000  140.250000   80.000000   32.000000  127.250000   36.600000   \n",
       "max     17.000000  199.000000  122.000000   99.000000  846.000000   67.100000   \n",
       "\n",
       "             pedi         age       class  \n",
       "count  768.000000  768.000000  768.000000  \n",
       "mean     0.471876   33.240885    0.348958  \n",
       "std      0.331329   11.760232    0.476951  \n",
       "min      0.078000   21.000000    0.000000  \n",
       "25%      0.243750   24.000000    0.000000  \n",
       "50%      0.372500   29.000000    0.000000  \n",
       "75%      0.626250   41.000000    1.000000  \n",
       "max      2.420000   81.000000    1.000000  "
      ]
     },
     "execution_count": 39,
     "metadata": {},
     "output_type": "execute_result"
    }
   ],
   "source": [
    "pima_df.describe()"
   ]
  },
  {
   "cell_type": "code",
   "execution_count": 40,
   "metadata": {},
   "outputs": [
    {
     "data": {
      "text/plain": [
       "class\n",
       "0    500\n",
       "1    268\n",
       "dtype: int64"
      ]
     },
     "execution_count": 40,
     "metadata": {},
     "output_type": "execute_result"
    }
   ],
   "source": [
    "pima_df.groupby(\"class\").size()"
   ]
  },
  {
   "cell_type": "code",
   "execution_count": 41,
   "metadata": {},
   "outputs": [
    {
     "data": {
      "text/plain": [
       "0    500\n",
       "1    268\n",
       "Name: class, dtype: int64"
      ]
     },
     "execution_count": 41,
     "metadata": {},
     "output_type": "execute_result"
    }
   ],
   "source": [
    "pima_df[\"class\"].value_counts()"
   ]
  },
  {
   "cell_type": "code",
   "execution_count": 42,
   "metadata": {},
   "outputs": [
    {
     "data": {
      "image/png": "[encoded data removed]",
      "text/plain": [
       "<Figure size 720x720 with 1 Axes>"
      ]
     },
     "metadata": {},
     "output_type": "display_data"
    }
   ],
   "source": [
    "#pie chart for the classes\n",
    "plt.style=\"seaborn-dark\"\n",
    "color_palatte=[\"#d3f2a3\",\"#074050\"]\n",
    "plt.rcParams['axes.labelsize']='x-large'\n",
    "plt.rcParams['font.sans-serif'] = 'Times New Roman'\n",
    "plt.rcParams['font.family'] = 'sans-serif'\n",
    "plt.rcParams['axes.titlesize']=40\n",
    "\n",
    "pima_df[\"class\"].value_counts().plot(kind=\"pie\",colors=color_palatte, figsize=(10,10), autopct='%1.1f%%', title =\"Patients with and without Diabetes\", explode=[0.1,0], labels=[\"No\",\"Yes\"],legend=True,shadow=True, textprops={'fontsize': 20});\n",
    "\n",
    "\n",
    "#pima_df[\"class\"].plot(kind=\"bar\")"
   ]
  },
  {
   "cell_type": "code",
   "execution_count": 43,
   "metadata": {},
   "outputs": [
    {
     "data": {
      "image/png": "[encoded data removed]",
      "text/plain": [
       "<Figure size 864x576 with 9 Axes>"
      ]
     },
     "metadata": {
      "needs_background": "light"
     },
     "output_type": "display_data"
    }
   ],
   "source": [
    "#histograms for all the numeric values in the data set\n",
    "pima_df.hist(figsize=(12,8),sharex=False,bins=5,color='c');\n",
    "#sns.distplot(pima_df, kde=False, color=[\"#fbe6c5\",\"#f5ba98\",\"#ee8a82\",\"#dc7176\",\"#c8586c\",\"#9c3f5d\",\"#70284a\",\"#d3f2a3\",\"#074050\"], bins=5);"
   ]
  },
  {
   "cell_type": "code",
   "execution_count": 44,
   "metadata": {},
   "outputs": [
    {
     "data": {
      "image/png": "[encoded data removed]",
      "text/plain": [
       "<Figure size 864x576 with 9 Axes>"
      ]
     },
     "metadata": {
      "needs_background": "light"
     },
     "output_type": "display_data"
    }
   ],
   "source": [
    "#density plots\n",
    "pima_df.plot(kind=\"kde\",subplots=True,layout=(3,3),figsize=(12,8),sharex=False,sharey=False,legend=True);"
   ]
  },
  {
   "cell_type": "code",
   "execution_count": 45,
   "metadata": {},
   "outputs": [
    {
     "data": {
      "image/png": "[encoded data removed]",
      "text/plain": [
       "<Figure size 864x576 with 9 Axes>"
      ]
     },
     "metadata": {
      "needs_background": "light"
     },
     "output_type": "display_data"
    }
   ],
   "source": [
    "#box plot\n",
    "pima_df.plot(kind=\"box\",subplots=True,layout=(3,3),figsize=(12,8),sharex=False,sharey=False,legend=True);"
   ]
  },
  {
   "cell_type": "code",
   "execution_count": 46,
   "metadata": {},
   "outputs": [
    {
     "data": {
      "image/png": "[encoded data removed]",
      "text/plain": [
       "<Figure size 432x288 with 1 Axes>"
      ]
     },
     "metadata": {
      "needs_background": "light"
     },
     "output_type": "display_data"
    }
   ],
   "source": [
    "# we have outliers in almost all the variables\n",
    "sns.boxplot(data=pima_df[\"preg\"],orient=\"h\",color=\"red\",notch=True);\n"
   ]
  },
  {
   "cell_type": "code",
   "execution_count": 47,
   "metadata": {},
   "outputs": [
    {
     "data": {
      "text/plain": [
       "1     135\n",
       "0     111\n",
       "2     103\n",
       "3      75\n",
       "4      68\n",
       "5      57\n",
       "6      50\n",
       "7      45\n",
       "8      38\n",
       "9      28\n",
       "10     24\n",
       "11     11\n",
       "13     10\n",
       "12      9\n",
       "14      2\n",
       "15      1\n",
       "17      1\n",
       "Name: preg, dtype: int64"
      ]
     },
     "execution_count": 47,
     "metadata": {},
     "output_type": "execute_result"
    }
   ],
   "source": [
    "pima_df[\"preg\"].value_counts()"
   ]
  },
  {
   "cell_type": "code",
   "execution_count": 48,
   "metadata": {},
   "outputs": [
    {
     "name": "stdout",
     "output_type": "stream",
     "text": [
      "skin having outlier is:227\n",
      "mass having outlier is:11\n",
      "test having outlier is:374\n",
      "age having outlier is:0\n",
      "pedi having outlier is:0\n",
      "pressure having 0 is:35\n",
      "Plas having 0 is:5\n"
     ]
    }
   ],
   "source": [
    "print(\"skin having outlier is:{}\".format(pima_df.loc[pima_df[\"skin\"]==0].skin.count()))\n",
    "print(\"mass having outlier is:{}\".format(pima_df.loc[pima_df[\"mass\"]==0].mass.count()))\n",
    "print(\"test having outlier is:{}\".format(pima_df.loc[pima_df[\"test\"]==0].mass.count()))\n",
    "print(\"age having outlier is:{}\".format(pima_df.loc[pima_df[\"age\"]==0].mass.count()))\n",
    "print(\"pedi having outlier is:{}\".format(pima_df.loc[pima_df[\"pedi\"]==0].pedi.count()))\n",
    "print(\"pressure having 0 is:{}\".format(pima_df.loc[pima_df[\"pres\"]==0].pres.count()))\n",
    "print(\"Plas having 0 is:{}\".format(pima_df.loc[pima_df[\"plas\"]==0].plas.count()))\n"
   ]
  },
  {
   "cell_type": "code",
   "execution_count": 49,
   "metadata": {},
   "outputs": [],
   "source": [
    "#mass has 11 - 0 rows, drop them\n",
    "# It is impossible to have plasma values of 0,drop those rows\n",
    "# Blood pressure has 35 0 values, drop them\n",
    "# preg has 3 outliers, I am not removing it as i felt it may carry information\n",
    "\n",
    "#skin has a lot of 0 values, cant remove them.\n",
    "#insulin test has lot of 0 values cannot drop them\n",
    "#pedi has many outliers\n",
    "#age also has a lot of outliers\n"
   ]
  },
  {
   "cell_type": "code",
   "execution_count": 50,
   "metadata": {},
   "outputs": [],
   "source": [
    "#extracting new dataset with the following conditions\n",
    "pima_df_mod = pima_df[(pima_df.plas != 0) & (pima_df.pres != 0) & (pima_df.mass != 0)]"
   ]
  },
  {
   "cell_type": "code",
   "execution_count": 51,
   "metadata": {},
   "outputs": [
    {
     "data": {
      "text/plain": [
       "preg       int64\n",
       "plas       int64\n",
       "pres       int64\n",
       "skin       int64\n",
       "test       int64\n",
       "mass     float64\n",
       "pedi     float64\n",
       "age        int64\n",
       "class      int64\n",
       "dtype: object"
      ]
     },
     "execution_count": 51,
     "metadata": {},
     "output_type": "execute_result"
    }
   ],
   "source": [
    "#Modified pima dataset\n",
    "pima_df_mod.head()\n",
    "pima_df_mod.dtypes"
   ]
  },
  {
   "cell_type": "markdown",
   "metadata": {},
   "source": [
    "## Separate the dataset into input and output arrays"
   ]
  },
  {
   "cell_type": "code",
   "execution_count": 126,
   "metadata": {},
   "outputs": [
    {
     "data": {
      "text/plain": [
       "0.0"
      ]
     },
     "execution_count": 126,
     "metadata": {},
     "output_type": "execute_result"
    }
   ],
   "source": [
    "#getting the values into a numpy array\n",
    "numpy_array=pima_df_mod.values\n",
    "numpy_array[1,8]"
   ]
  },
  {
   "cell_type": "code",
   "execution_count": 127,
   "metadata": {
    "scrolled": true
   },
   "outputs": [
    {
     "name": "stdout",
     "output_type": "stream",
     "text": [
      "[[  6.    148.     72.    ...  33.6     0.627  50.   ]\n",
      " [  1.     85.     66.    ...  26.6     0.351  31.   ]\n",
      " [  8.    183.     64.    ...  23.3     0.672  32.   ]\n",
      " ...\n",
      " [  5.    121.     72.    ...  26.2     0.245  30.   ]\n",
      " [  1.    126.     60.    ...  30.1     0.349  47.   ]\n",
      " [  1.     93.     70.    ...  30.4     0.315  23.   ]]\n"
     ]
    }
   ],
   "source": [
    "pred_array=numpy_array[:,0:8]\n",
    "print(pred_array)"
   ]
  },
  {
   "cell_type": "code",
   "execution_count": 128,
   "metadata": {},
   "outputs": [
    {
     "name": "stdout",
     "output_type": "stream",
     "text": [
      "[1 0 1 0 1 0 1 1 0 1 0 1 1 1 1 0 1 0 0 1 1 1 1 1 0 0 0 0 1 0 0 0 0 0 1 1 1\n",
      " 0 0 0 1 0 1 0 0 1 0 0 0 1 0 0 1 0 0 0 1 0 0 1 0 1 0 0 0 1 0 1 0 0 0 0 0 0\n",
      " 0 0 1 0 0 0 1 0 0 0 0 1 0 0 0 0 0 1 1 0 0 0 0 0 0 0 0 1 1 1 0 0 1 1 1 0 0\n",
      " 0 1 0 0 0 1 1 0 0 1 1 1 1 1 0 0 0 0 0 0 0 0 0 0 1 0 0 0 0 0 0 0 1 0 1 1 0\n",
      " 0 0 1 0 0 0 0 1 1 0 0 0 0 1 1 0 0 1 0 1 0 1 0 0 0 0 1 1 1 1 1 0 0 1 0 1 0\n",
      " 1 1 1 0 0 0 0 0 0 1 1 0 1 0 0 0 1 1 1 1 0 1 1 1 1 0 0 0 0 1 0 0 1 1 0 0 0\n",
      " 1 1 1 1 0 0 0 1 1 0 1 0 0 0 0 0 0 0 0 1 1 0 0 0 1 0 0 0 1 0 0 0 1 0 0 0 0\n",
      " 0 1 0 0 0 1 0 0 1 1 0 0 1 0 0 0 1 1 1 0 0 1 0 1 0 1 0 1 0 0 1 0 1 1 0 0 1\n",
      " 0 1 0 0 1 0 1 0 1 1 1 0 0 1 0 1 0 0 0 0 0 0 1 1 1 0 0 0 0 0 0 0 0 0 0 0 0\n",
      " 1 1 0 1 1 0 0 1 0 0 1 0 0 1 1 0 0 0 1 0 0 1 0 0 0 0 0 0 0 1 1 1 0 0 1 0 0\n",
      " 1 0 0 1 0 1 1 0 1 0 1 0 1 0 1 1 0 0 0 0 1 1 0 1 0 1 0 0 0 0 1 1 1 0 1 0 0\n",
      " 0 0 0 0 0 0 1 0 0 1 1 1 0 0 1 0 0 1 0 0 1 0 0 1 0 0 0 0 0 0 0 0 0 0 0 0 0\n",
      " 0 0 0 1 0 0 0 1 0 0 0 1 0 0 0 0 0 0 0 1 0 0 0 1 0 0 0 0 0 0 1 0 0 0 1 0 0\n",
      " 0 0 1 1 0 0 0 0 0 1 0 0 0 0 0 0 0 0 0 0 0 0 0 1 1 1 1 0 0 1 1 0 0 0 0 0 0\n",
      " 0 0 0 0 0 0 0 1 1 0 0 0 0 0 0 0 1 0 0 0 0 0 0 0 1 0 1 1 0 0 0 1 0 1 0 1 1\n",
      " 0 1 0 0 1 0 0 1 0 0 0 1 0 1 0 0 0 0 1 1 0 1 0 0 0 1 0 0 0 0 0 0 0 0 0 0 1\n",
      " 0 0 0 0 1 0 0 1 0 0 0 1 0 0 1 1 1 0 0 0 0 0 0 1 0 0 0 1 0 1 1 1 1 0 1 1 0\n",
      " 0 0 0 0 0 0 1 1 0 1 0 0 1 0 1 0 0 0 0 1 0 1 0 1 0 1 1 0 0 0 1 1 0 0 0 1 1\n",
      " 0 0 1 0 0 1 1 0 0 1 0 0 1 0 0 0 0 0 0 0 1 1 1 0 0 0 0 0 0 1 1 0 0 1 0 0 1\n",
      " 0 1 1 1 0 0 1 1 1 0 1 0 1 0 1 0 0 0 0 1 0] int64\n"
     ]
    }
   ],
   "source": [
    "targ_array=numpy_array[:,8]\n",
    "targ_array=targ_array.astype(int)\n",
    "print(targ_array,targ_array.dtype)"
   ]
  },
  {
   "cell_type": "markdown",
   "metadata": {},
   "source": [
    "## Split input and output into train and test dataset"
   ]
  },
  {
   "cell_type": "code",
   "execution_count": 129,
   "metadata": {},
   "outputs": [],
   "source": [
    "#train_size=67% and  test_size=33%\n",
    "train_size=0.33\n",
    "pred_train,pred_test,targ_train,targ_test=train_test_split(pred_array,targ_array,test_size=0.33,random_state=random_seed)"
   ]
  },
  {
   "cell_type": "markdown",
   "metadata": {},
   "source": [
    "## Encode class values- One Hot Encoding"
   ]
  },
  {
   "cell_type": "code",
   "execution_count": 130,
   "metadata": {},
   "outputs": [],
   "source": [
    "# For target-train dataset\n",
    "# Encode class values as integers\n",
    "\n",
    "Encoder_train=LabelEncoder()\n",
    "E_targ_train=Encoder_train.fit_transform(targ_train)\n",
    "\n",
    "#np_utils.to_categorical is used to convert array of labeled data(from 0 to nb_classes-1) to one-hot vector.\n",
    "ohe_targ_train=np_utils.to_categorical(E_targ_train)\n",
    "\n",
    "# For target-test dataset\n",
    "# Encode class values as integers\n",
    "\n",
    "Encoder_test=LabelEncoder()\n",
    "E_targ_test=Encoder_train.fit_transform(targ_test)\n",
    "\n",
    "#np_utils.to_categorical is used to convert array of labeled data(from 0 to nb_classes-1) to one-hot vector.\n",
    "ohe_targ_test=np_utils.to_categorical(E_targ_test)\n",
    "\n"
   ]
  },
  {
   "cell_type": "code",
   "execution_count": 131,
   "metadata": {},
   "outputs": [
    {
     "name": "stdout",
     "output_type": "stream",
     "text": [
      "(485, 2)\n",
      "(239, 2)\n"
     ]
    }
   ],
   "source": [
    "\n",
    "print(ohe_targ_train.shape)\n",
    "print(ohe_targ_test.shape)\n"
   ]
  },
  {
   "cell_type": "markdown",
   "metadata": {},
   "source": [
    "# Build an MLP with 3 layers\n"
   ]
  },
  {
   "cell_type": "markdown",
   "metadata": {},
   "source": [
    "## 3 layer MLP implies a neural neutwork with an input layer, 2 hidden layers and output layer\n",
    "## We have 8 predictors, so the input layer will have 8 neurons and we are using ReLU as act function\n",
    "## The hidden layer can have 16 neurons nd we are using ReLU as act function.\n",
    "## We have two types of outputs- 1 and 0.Therefore output layer will have 2 neuronsnd we are using softmax as act function."
   ]
  },
  {
   "cell_type": "code",
   "execution_count": 132,
   "metadata": {},
   "outputs": [],
   "source": [
    "#building model\n",
    "mlp_model=Sequential()\n",
    "\n",
    "#add layers\n",
    "mlp_model.add(Dense(16,input_dim=8, activation=\"relu\"))\n",
    "mlp_model.add(Dense(8, activation='relu'))\n",
    "mlp_model.add(Dense(2,activation=\"softmax\"))"
   ]
  },
  {
   "cell_type": "markdown",
   "metadata": {},
   "source": [
    "## we are setting the configurations for decreasing the loss function- crossentropy and the optimizer adam"
   ]
  },
  {
   "cell_type": "code",
   "execution_count": 133,
   "metadata": {},
   "outputs": [],
   "source": [
    "#compile the model - setting the model configurations\n",
    "\n",
    "mlp_model.compile(optimizer='adam',loss='binary_crossentropy',metrics=['accuracy'])"
   ]
  },
  {
   "cell_type": "code",
   "execution_count": 134,
   "metadata": {},
   "outputs": [],
   "source": [
    "#defining function for this baselinemodel\n",
    "def baseline_model():\n",
    "    #building model\n",
    "    model1=Sequential()\n",
    "    #add layers\n",
    "    model1.add(Dense(12,input_dim=8, activation=\"relu\"))\n",
    "    model1.add(Dense(8, activation='relu'))\n",
    "    model1.add(Dense(2,activation=\"softmax\"))\n",
    "    #compile the model - setting the model configurations\n",
    "    model1.compile(optimizer='adam',loss='binary_crossentropy',metrics=['accuracy'])\n",
    "    return model1\n",
    "    "
   ]
  },
  {
   "cell_type": "code",
   "execution_count": 135,
   "metadata": {},
   "outputs": [],
   "source": [
    "mlp_2_model=baseline_model()"
   ]
  },
  {
   "cell_type": "code",
   "execution_count": 154,
   "metadata": {},
   "outputs": [
    {
     "name": "stdout",
     "output_type": "stream",
     "text": [
      "Epoch 1/150\n",
      "485/485 [==============================] - 0s 458us/step - loss: 0.4796 - accuracy: 0.7711\n",
      "Epoch 2/150\n",
      "485/485 [==============================] - 0s 118us/step - loss: 0.4954 - accuracy: 0.7629\n",
      "Epoch 3/150\n",
      "485/485 [==============================] - 0s 97us/step - loss: 0.4938 - accuracy: 0.7691\n",
      "Epoch 4/150\n",
      "485/485 [==============================] - 0s 106us/step - loss: 0.4842 - accuracy: 0.7814\n",
      "Epoch 5/150\n",
      "485/485 [==============================] - 0s 113us/step - loss: 0.4803 - accuracy: 0.7773\n",
      "Epoch 6/150\n",
      "485/485 [==============================] - 0s 102us/step - loss: 0.4824 - accuracy: 0.7876\n",
      "Epoch 7/150\n",
      "485/485 [==============================] - 0s 94us/step - loss: 0.4861 - accuracy: 0.7794\n",
      "Epoch 8/150\n",
      "485/485 [==============================] - 0s 102us/step - loss: 0.4820 - accuracy: 0.7753\n",
      "Epoch 9/150\n",
      "485/485 [==============================] - 0s 94us/step - loss: 0.4861 - accuracy: 0.7629\n",
      "Epoch 10/150\n",
      "485/485 [==============================] - 0s 99us/step - loss: 0.4783 - accuracy: 0.7649\n",
      "Epoch 11/150\n",
      "485/485 [==============================] - 0s 94us/step - loss: 0.4827 - accuracy: 0.7835\n",
      "Epoch 12/150\n",
      "485/485 [==============================] - 0s 94us/step - loss: 0.4885 - accuracy: 0.7711\n",
      "Epoch 13/150\n",
      "485/485 [==============================] - 0s 111us/step - loss: 0.4699 - accuracy: 0.8000\n",
      "Epoch 14/150\n",
      "485/485 [==============================] - 0s 101us/step - loss: 0.4800 - accuracy: 0.7814\n",
      "Epoch 15/150\n",
      "485/485 [==============================] - 0s 94us/step - loss: 0.4721 - accuracy: 0.7794\n",
      "Epoch 16/150\n",
      "485/485 [==============================] - 0s 97us/step - loss: 0.4908 - accuracy: 0.7588\n",
      "Epoch 17/150\n",
      "485/485 [==============================] - 0s 99us/step - loss: 0.4803 - accuracy: 0.7649\n",
      "Epoch 18/150\n",
      "485/485 [==============================] - 0s 147us/step - loss: 0.4800 - accuracy: 0.8062\n",
      "Epoch 19/150\n",
      "485/485 [==============================] - 0s 117us/step - loss: 0.4857 - accuracy: 0.7711\n",
      "Epoch 20/150\n",
      "485/485 [==============================] - 0s 97us/step - loss: 0.4819 - accuracy: 0.7794\n",
      "Epoch 21/150\n",
      "485/485 [==============================] - 0s 97us/step - loss: 0.4664 - accuracy: 0.7856\n",
      "Epoch 22/150\n",
      "485/485 [==============================] - 0s 113us/step - loss: 0.4645 - accuracy: 0.7897\n",
      "Epoch 23/150\n",
      "485/485 [==============================] - 0s 105us/step - loss: 0.4670 - accuracy: 0.7773\n",
      "Epoch 24/150\n",
      "485/485 [==============================] - 0s 101us/step - loss: 0.4703 - accuracy: 0.7897\n",
      "Epoch 25/150\n",
      "485/485 [==============================] - 0s 105us/step - loss: 0.5181 - accuracy: 0.7464\n",
      "Epoch 26/150\n",
      "485/485 [==============================] - 0s 105us/step - loss: 0.4914 - accuracy: 0.7732\n",
      "Epoch 27/150\n",
      "485/485 [==============================] - 0s 99us/step - loss: 0.4661 - accuracy: 0.7732\n",
      "Epoch 28/150\n",
      "485/485 [==============================] - 0s 107us/step - loss: 0.4713 - accuracy: 0.7732\n",
      "Epoch 29/150\n",
      "485/485 [==============================] - 0s 128us/step - loss: 0.4854 - accuracy: 0.7670\n",
      "Epoch 30/150\n",
      "485/485 [==============================] - 0s 96us/step - loss: 0.4903 - accuracy: 0.7691\n",
      "Epoch 31/150\n",
      "485/485 [==============================] - 0s 91us/step - loss: 0.4699 - accuracy: 0.7794\n",
      "Epoch 32/150\n",
      "485/485 [==============================] - 0s 115us/step - loss: 0.4672 - accuracy: 0.7732\n",
      "Epoch 33/150\n",
      "485/485 [==============================] - 0s 101us/step - loss: 0.4649 - accuracy: 0.7794\n",
      "Epoch 34/150\n",
      "485/485 [==============================] - 0s 97us/step - loss: 0.4697 - accuracy: 0.7732\n",
      "Epoch 35/150\n",
      "485/485 [==============================] - 0s 113us/step - loss: 0.4799 - accuracy: 0.7711\n",
      "Epoch 36/150\n",
      "485/485 [==============================] - 0s 113us/step - loss: 0.4987 - accuracy: 0.7732\n",
      "Epoch 37/150\n",
      "485/485 [==============================] - 0s 112us/step - loss: 0.4729 - accuracy: 0.7753\n",
      "Epoch 38/150\n",
      "485/485 [==============================] - 0s 124us/step - loss: 0.4648 - accuracy: 0.7794\n",
      "Epoch 39/150\n",
      "485/485 [==============================] - 0s 116us/step - loss: 0.4927 - accuracy: 0.7649\n",
      "Epoch 40/150\n",
      "485/485 [==============================] - 0s 108us/step - loss: 0.5063 - accuracy: 0.7629\n",
      "Epoch 41/150\n",
      "485/485 [==============================] - 0s 109us/step - loss: 0.4744 - accuracy: 0.7835\n",
      "Epoch 42/150\n",
      "485/485 [==============================] - 0s 113us/step - loss: 0.4800 - accuracy: 0.7835\n",
      "Epoch 43/150\n",
      "485/485 [==============================] - 0s 105us/step - loss: 0.4775 - accuracy: 0.7732\n",
      "Epoch 44/150\n",
      "485/485 [==============================] - 0s 97us/step - loss: 0.4674 - accuracy: 0.7938\n",
      "Epoch 45/150\n",
      "485/485 [==============================] - 0s 119us/step - loss: 0.4641 - accuracy: 0.7629\n",
      "Epoch 46/150\n",
      "485/485 [==============================] - 0s 111us/step - loss: 0.4625 - accuracy: 0.7835\n",
      "Epoch 47/150\n",
      "485/485 [==============================] - 0s 114us/step - loss: 0.4680 - accuracy: 0.7835\n",
      "Epoch 48/150\n",
      "485/485 [==============================] - 0s 94us/step - loss: 0.4641 - accuracy: 0.7732\n",
      "Epoch 49/150\n",
      "485/485 [==============================] - 0s 116us/step - loss: 0.4581 - accuracy: 0.7918\n",
      "Epoch 50/150\n",
      "485/485 [==============================] - 0s 111us/step - loss: 0.4615 - accuracy: 0.7897\n",
      "Epoch 51/150\n",
      "485/485 [==============================] - 0s 102us/step - loss: 0.4625 - accuracy: 0.7773\n",
      "Epoch 52/150\n",
      "485/485 [==============================] - 0s 112us/step - loss: 0.4654 - accuracy: 0.7732\n",
      "Epoch 53/150\n",
      "485/485 [==============================] - 0s 116us/step - loss: 0.4640 - accuracy: 0.7753\n",
      "Epoch 54/150\n",
      "485/485 [==============================] - 0s 107us/step - loss: 0.4720 - accuracy: 0.7814\n",
      "Epoch 55/150\n",
      "485/485 [==============================] - 0s 94us/step - loss: 0.4619 - accuracy: 0.7773\n",
      "Epoch 56/150\n",
      "485/485 [==============================] - 0s 88us/step - loss: 0.4703 - accuracy: 0.7856\n",
      "Epoch 57/150\n",
      "485/485 [==============================] - 0s 104us/step - loss: 0.4569 - accuracy: 0.7897\n",
      "Epoch 58/150\n",
      "485/485 [==============================] - 0s 97us/step - loss: 0.4528 - accuracy: 0.7979\n",
      "Epoch 59/150\n",
      "485/485 [==============================] - 0s 113us/step - loss: 0.4644 - accuracy: 0.7814\n",
      "Epoch 60/150\n",
      "485/485 [==============================] - 0s 105us/step - loss: 0.4606 - accuracy: 0.7856\n",
      "Epoch 61/150\n",
      "485/485 [==============================] - 0s 97us/step - loss: 0.4700 - accuracy: 0.7753\n",
      "Epoch 62/150\n",
      "485/485 [==============================] - 0s 95us/step - loss: 0.4623 - accuracy: 0.7711\n",
      "Epoch 63/150\n",
      "485/485 [==============================] - 0s 99us/step - loss: 0.4807 - accuracy: 0.7711\n",
      "Epoch 64/150\n",
      "485/485 [==============================] - 0s 91us/step - loss: 0.4525 - accuracy: 0.7835\n",
      "Epoch 65/150\n",
      "485/485 [==============================] - 0s 104us/step - loss: 0.4846 - accuracy: 0.7814\n",
      "Epoch 66/150\n",
      "485/485 [==============================] - 0s 103us/step - loss: 0.4679 - accuracy: 0.7835\n",
      "Epoch 67/150\n",
      "485/485 [==============================] - 0s 100us/step - loss: 0.4609 - accuracy: 0.7856\n",
      "Epoch 68/150\n",
      "485/485 [==============================] - 0s 98us/step - loss: 0.4764 - accuracy: 0.7835\n",
      "Epoch 69/150\n",
      "485/485 [==============================] - 0s 99us/step - loss: 0.4561 - accuracy: 0.7753\n",
      "Epoch 70/150\n",
      "485/485 [==============================] - 0s 96us/step - loss: 0.4713 - accuracy: 0.7897\n",
      "Epoch 71/150\n",
      "485/485 [==============================] - 0s 96us/step - loss: 0.5186 - accuracy: 0.7649\n",
      "Epoch 72/150\n",
      "485/485 [==============================] - 0s 96us/step - loss: 0.4520 - accuracy: 0.7897\n",
      "Epoch 73/150\n",
      "485/485 [==============================] - 0s 86us/step - loss: 0.4510 - accuracy: 0.7897\n",
      "Epoch 74/150\n",
      "485/485 [==============================] - 0s 92us/step - loss: 0.4611 - accuracy: 0.7938\n",
      "Epoch 75/150\n",
      "485/485 [==============================] - 0s 95us/step - loss: 0.4508 - accuracy: 0.8000\n",
      "Epoch 76/150\n",
      "485/485 [==============================] - 0s 100us/step - loss: 0.4604 - accuracy: 0.7897\n",
      "Epoch 77/150\n",
      "485/485 [==============================] - 0s 97us/step - loss: 0.4571 - accuracy: 0.7794\n",
      "Epoch 78/150\n",
      "485/485 [==============================] - 0s 93us/step - loss: 0.4722 - accuracy: 0.7732\n",
      "Epoch 79/150\n",
      "485/485 [==============================] - 0s 86us/step - loss: 0.4573 - accuracy: 0.7856\n",
      "Epoch 80/150\n",
      "485/485 [==============================] - 0s 98us/step - loss: 0.4612 - accuracy: 0.7794\n",
      "Epoch 81/150\n",
      "485/485 [==============================] - 0s 118us/step - loss: 0.4620 - accuracy: 0.7897\n",
      "Epoch 82/150\n",
      "485/485 [==============================] - 0s 91us/step - loss: 0.4639 - accuracy: 0.7918\n",
      "Epoch 83/150\n",
      "485/485 [==============================] - 0s 97us/step - loss: 0.4882 - accuracy: 0.7794\n",
      "Epoch 84/150\n",
      "485/485 [==============================] - 0s 90us/step - loss: 0.4781 - accuracy: 0.7691\n",
      "Epoch 85/150\n",
      "485/485 [==============================] - 0s 92us/step - loss: 0.4571 - accuracy: 0.7711\n",
      "Epoch 86/150\n",
      "485/485 [==============================] - 0s 96us/step - loss: 0.4523 - accuracy: 0.7897\n",
      "Epoch 87/150\n",
      "485/485 [==============================] - 0s 91us/step - loss: 0.4484 - accuracy: 0.8021\n",
      "Epoch 88/150\n",
      "485/485 [==============================] - 0s 87us/step - loss: 0.4482 - accuracy: 0.8103\n",
      "Epoch 89/150\n",
      "485/485 [==============================] - 0s 93us/step - loss: 0.4628 - accuracy: 0.7794\n",
      "Epoch 90/150\n",
      "485/485 [==============================] - 0s 95us/step - loss: 0.4460 - accuracy: 0.8000\n",
      "Epoch 91/150\n",
      "485/485 [==============================] - 0s 87us/step - loss: 0.4630 - accuracy: 0.7876\n",
      "Epoch 92/150\n",
      "485/485 [==============================] - 0s 84us/step - loss: 0.4520 - accuracy: 0.7876\n",
      "Epoch 93/150\n",
      "485/485 [==============================] - 0s 89us/step - loss: 0.4479 - accuracy: 0.8041\n",
      "Epoch 94/150\n",
      "485/485 [==============================] - 0s 87us/step - loss: 0.4695 - accuracy: 0.7732\n",
      "Epoch 95/150\n",
      "485/485 [==============================] - 0s 92us/step - loss: 0.4625 - accuracy: 0.8000\n",
      "Epoch 96/150\n",
      "485/485 [==============================] - 0s 95us/step - loss: 0.4423 - accuracy: 0.8000\n",
      "Epoch 97/150\n",
      "485/485 [==============================] - 0s 96us/step - loss: 0.4519 - accuracy: 0.8062\n",
      "Epoch 98/150\n",
      "485/485 [==============================] - 0s 97us/step - loss: 0.4670 - accuracy: 0.7732\n",
      "Epoch 99/150\n",
      "485/485 [==============================] - 0s 106us/step - loss: 0.4479 - accuracy: 0.8000\n",
      "Epoch 100/150\n",
      "485/485 [==============================] - 0s 87us/step - loss: 0.4619 - accuracy: 0.7794\n",
      "Epoch 101/150\n",
      "485/485 [==============================] - 0s 91us/step - loss: 0.4435 - accuracy: 0.7876\n",
      "Epoch 102/150\n",
      "485/485 [==============================] - 0s 98us/step - loss: 0.4467 - accuracy: 0.7979\n",
      "Epoch 103/150\n",
      "485/485 [==============================] - 0s 94us/step - loss: 0.4547 - accuracy: 0.7856\n",
      "Epoch 104/150\n",
      "485/485 [==============================] - 0s 91us/step - loss: 0.4469 - accuracy: 0.8021\n",
      "Epoch 105/150\n",
      "485/485 [==============================] - 0s 88us/step - loss: 0.4482 - accuracy: 0.8021\n",
      "Epoch 106/150\n",
      "485/485 [==============================] - 0s 88us/step - loss: 0.4503 - accuracy: 0.7959\n",
      "Epoch 107/150\n",
      "485/485 [==============================] - 0s 88us/step - loss: 0.4535 - accuracy: 0.7753\n",
      "Epoch 108/150\n",
      "485/485 [==============================] - 0s 93us/step - loss: 0.4577 - accuracy: 0.7814\n",
      "Epoch 109/150\n",
      "485/485 [==============================] - 0s 89us/step - loss: 0.4456 - accuracy: 0.7814\n",
      "Epoch 110/150\n",
      "485/485 [==============================] - 0s 120us/step - loss: 0.4589 - accuracy: 0.7959\n",
      "Epoch 111/150\n",
      "485/485 [==============================] - 0s 96us/step - loss: 0.4476 - accuracy: 0.8062\n",
      "Epoch 112/150\n",
      "485/485 [==============================] - 0s 97us/step - loss: 0.4381 - accuracy: 0.7979\n",
      "Epoch 113/150\n",
      "485/485 [==============================] - 0s 98us/step - loss: 0.4400 - accuracy: 0.8000\n",
      "Epoch 114/150\n",
      "485/485 [==============================] - 0s 88us/step - loss: 0.4609 - accuracy: 0.7835\n",
      "Epoch 115/150\n",
      "485/485 [==============================] - 0s 90us/step - loss: 0.4525 - accuracy: 0.7918\n",
      "Epoch 116/150\n",
      "485/485 [==============================] - 0s 93us/step - loss: 0.4477 - accuracy: 0.7959\n",
      "Epoch 117/150\n",
      "485/485 [==============================] - 0s 95us/step - loss: 0.4401 - accuracy: 0.7835\n",
      "Epoch 118/150\n",
      "485/485 [==============================] - 0s 92us/step - loss: 0.4588 - accuracy: 0.7938\n",
      "Epoch 119/150\n",
      "485/485 [==============================] - 0s 90us/step - loss: 0.4396 - accuracy: 0.7835\n",
      "Epoch 120/150\n",
      "485/485 [==============================] - 0s 102us/step - loss: 0.4549 - accuracy: 0.7856\n",
      "Epoch 121/150\n",
      "485/485 [==============================] - 0s 90us/step - loss: 0.4487 - accuracy: 0.7856\n",
      "Epoch 122/150\n",
      "485/485 [==============================] - 0s 87us/step - loss: 0.4364 - accuracy: 0.7959\n",
      "Epoch 123/150\n",
      "485/485 [==============================] - 0s 90us/step - loss: 0.4884 - accuracy: 0.7794\n",
      "Epoch 124/150\n",
      "485/485 [==============================] - 0s 92us/step - loss: 0.4537 - accuracy: 0.7979\n",
      "Epoch 125/150\n",
      "485/485 [==============================] - 0s 89us/step - loss: 0.4434 - accuracy: 0.7938\n",
      "Epoch 126/150\n",
      "485/485 [==============================] - 0s 97us/step - loss: 0.4513 - accuracy: 0.8021\n",
      "Epoch 127/150\n",
      "485/485 [==============================] - 0s 109us/step - loss: 0.4448 - accuracy: 0.7918\n",
      "Epoch 128/150\n",
      "485/485 [==============================] - 0s 94us/step - loss: 0.4432 - accuracy: 0.8021\n",
      "Epoch 129/150\n",
      "485/485 [==============================] - 0s 96us/step - loss: 0.4397 - accuracy: 0.7959\n",
      "Epoch 130/150\n",
      "485/485 [==============================] - 0s 87us/step - loss: 0.4402 - accuracy: 0.8021\n",
      "Epoch 131/150\n",
      "485/485 [==============================] - 0s 94us/step - loss: 0.4505 - accuracy: 0.7918\n",
      "Epoch 132/150\n",
      "485/485 [==============================] - 0s 85us/step - loss: 0.4622 - accuracy: 0.7897\n",
      "Epoch 133/150\n",
      "485/485 [==============================] - 0s 84us/step - loss: 0.4361 - accuracy: 0.7876\n",
      "Epoch 134/150\n",
      "485/485 [==============================] - 0s 92us/step - loss: 0.4348 - accuracy: 0.8021\n",
      "Epoch 135/150\n",
      "485/485 [==============================] - 0s 87us/step - loss: 0.4618 - accuracy: 0.7938\n",
      "Epoch 136/150\n",
      "485/485 [==============================] - 0s 87us/step - loss: 0.4446 - accuracy: 0.8103\n",
      "Epoch 137/150\n",
      "485/485 [==============================] - 0s 89us/step - loss: 0.4361 - accuracy: 0.8000\n",
      "Epoch 138/150\n",
      "485/485 [==============================] - 0s 89us/step - loss: 0.4495 - accuracy: 0.8103\n",
      "Epoch 139/150\n",
      "485/485 [==============================] - 0s 104us/step - loss: 0.4749 - accuracy: 0.7794\n",
      "Epoch 140/150\n",
      "485/485 [==============================] - 0s 125us/step - loss: 0.4474 - accuracy: 0.7938\n",
      "Epoch 141/150\n",
      "485/485 [==============================] - 0s 106us/step - loss: 0.4323 - accuracy: 0.8041\n",
      "Epoch 142/150\n",
      "485/485 [==============================] - 0s 124us/step - loss: 0.4408 - accuracy: 0.8021\n",
      "Epoch 143/150\n",
      "485/485 [==============================] - 0s 96us/step - loss: 0.4692 - accuracy: 0.7629\n",
      "Epoch 144/150\n",
      "485/485 [==============================] - 0s 92us/step - loss: 0.4610 - accuracy: 0.7856\n",
      "Epoch 145/150\n",
      "485/485 [==============================] - 0s 92us/step - loss: 0.4417 - accuracy: 0.8000\n",
      "Epoch 146/150\n",
      "485/485 [==============================] - 0s 95us/step - loss: 0.4369 - accuracy: 0.8000\n",
      "Epoch 147/150\n",
      "485/485 [==============================] - 0s 91us/step - loss: 0.4315 - accuracy: 0.8041\n",
      "Epoch 148/150\n",
      "485/485 [==============================] - 0s 89us/step - loss: 0.4523 - accuracy: 0.7794\n",
      "Epoch 149/150\n",
      "485/485 [==============================] - 0s 87us/step - loss: 0.4491 - accuracy: 0.8000\n",
      "Epoch 150/150\n",
      "485/485 [==============================] - 0s 96us/step - loss: 0.4317 - accuracy: 0.8186\n"
     ]
    },
    {
     "data": {
      "text/plain": [
       "<keras.callbacks.callbacks.History at 0x14d7175c0>"
      ]
     },
     "execution_count": 154,
     "metadata": {},
     "output_type": "execute_result"
    }
   ],
   "source": [
    "mlp_2_model.fit(x=pred_train,y=ohe_targ_train,batch_size=10,epochs=150)"
   ]
  },
  {
   "cell_type": "code",
   "execution_count": 155,
   "metadata": {},
   "outputs": [
    {
     "name": "stdout",
     "output_type": "stream",
     "text": [
      "485/485 [==============================] - 0s 20us/step\n"
     ]
    }
   ],
   "source": [
    "scores_trained= mlp_2_model.evaluate(x=pred_train,y=ohe_targ_train)"
   ]
  },
  {
   "cell_type": "code",
   "execution_count": 156,
   "metadata": {},
   "outputs": [
    {
     "name": "stdout",
     "output_type": "stream",
     "text": [
      "The accuracy of the model on the trained data set is 80.21\n"
     ]
    }
   ],
   "source": [
    "print(\"The accuracy of the model on the trained data set is {0:5.2f}\".format(scores_trained[1]*100))\n"
   ]
  },
  {
   "cell_type": "code",
   "execution_count": 157,
   "metadata": {},
   "outputs": [],
   "source": [
    "accuracy_trained=scores_trained[1]*100"
   ]
  },
  {
   "cell_type": "code",
   "execution_count": 158,
   "metadata": {},
   "outputs": [
    {
     "name": "stdout",
     "output_type": "stream",
     "text": [
      "239/239 [==============================] - 0s 28us/step\n"
     ]
    }
   ],
   "source": [
    "scores_test=mlp_2_model.evaluate(x=pred_test,y=ohe_targ_test)\n"
   ]
  },
  {
   "cell_type": "code",
   "execution_count": 159,
   "metadata": {},
   "outputs": [
    {
     "name": "stdout",
     "output_type": "stream",
     "text": [
      "The accuracy of the model on the test data set is 71.13\n"
     ]
    }
   ],
   "source": [
    "print(\"The accuracy of the model on the test data set is {0:5.2f}\".format(scores_test[1]*100))\n"
   ]
  },
  {
   "cell_type": "code",
   "execution_count": 160,
   "metadata": {},
   "outputs": [],
   "source": [
    "accuracy_test=scores_test[1]*100"
   ]
  },
  {
   "cell_type": "markdown",
   "metadata": {},
   "source": [
    "## Evaluating using k-fold cross validation model"
   ]
  },
  {
   "cell_type": "code",
   "execution_count": 143,
   "metadata": {},
   "outputs": [],
   "source": [
    "#create kerasclassifier to evaluate the model\n",
    "classifier = KerasClassifier(build_fn = baseline_model,\n",
    "                            batch_size=10, nb_epoch=200)"
   ]
  },
  {
   "cell_type": "code",
   "execution_count": 144,
   "metadata": {},
   "outputs": [],
   "source": [
    "#Use Kfold cross validation to evaluate the model\n",
    "kfold=KFold(n_splits=10,random_state=random_seed,shuffle=True)"
   ]
  },
  {
   "cell_type": "code",
   "execution_count": 145,
   "metadata": {},
   "outputs": [],
   "source": [
    "ohe=np.concatenate((ohe_targ_train, ohe_targ_test), axis=0)"
   ]
  },
  {
   "cell_type": "code",
   "execution_count": 146,
   "metadata": {},
   "outputs": [
    {
     "name": "stdout",
     "output_type": "stream",
     "text": [
      "Epoch 1/1\n",
      "215/215 [==============================] - 0s 664us/step - loss: 4.2400 - accuracy: 0.5860\n",
      "24/24 [==============================] - 0s 933us/step\n",
      "Epoch 1/1\n",
      "215/215 [==============================] - 0s 646us/step - loss: 5.0830 - accuracy: 0.6512\n",
      "24/24 [==============================] - 0s 1ms/step\n",
      "Epoch 1/1\n",
      "215/215 [==============================] - 0s 674us/step - loss: 3.9005 - accuracy: 0.6326\n",
      "24/24 [==============================] - 0s 928us/step\n",
      "Epoch 1/1\n",
      "215/215 [==============================] - 0s 659us/step - loss: 3.7986 - accuracy: 0.6047\n",
      "24/24 [==============================] - 0s 930us/step\n",
      "Epoch 1/1\n",
      "215/215 [==============================] - 0s 658us/step - loss: 4.9453 - accuracy: 0.5209\n",
      "24/24 [==============================] - 0s 939us/step\n",
      "Epoch 1/1\n",
      "215/215 [==============================] - 0s 652us/step - loss: 6.5078 - accuracy: 0.4651\n",
      "24/24 [==============================] - 0s 903us/step\n",
      "Epoch 1/1\n",
      "215/215 [==============================] - 0s 653us/step - loss: 5.6768 - accuracy: 0.4558\n",
      "24/24 [==============================] - 0s 898us/step\n",
      "Epoch 1/1\n",
      "215/215 [==============================] - 0s 658us/step - loss: 10.0858 - accuracy: 0.3442\n",
      "24/24 [==============================] - 0s 1ms/step\n",
      "Epoch 1/1\n",
      "215/215 [==============================] - 0s 659us/step - loss: 3.9392 - accuracy: 0.6140\n",
      "24/24 [==============================] - 0s 923us/step\n",
      "Epoch 1/1\n",
      "216/216 [==============================] - 0s 711us/step - loss: 10.4253 - accuracy: 0.3194\n",
      "23/23 [==============================] - 0s 1ms/step\n"
     ]
    }
   ],
   "source": [
    "# Evaluate the model\n",
    "#Accuracies=cross_val_score(estimator=classifier,X=pred_array,y=ohe,cv=kfold)\n",
    "Accuracies=cross_val_score(estimator=classifier,X=pred_test,y=ohe_targ_test,cv=kfold)\n"
   ]
  },
  {
   "cell_type": "code",
   "execution_count": 147,
   "metadata": {},
   "outputs": [
    {
     "name": "stdout",
     "output_type": "stream",
     "text": [
      "The accuracy of the model on the test data set using k-fold cross validation is 51.43 with std of 51.43\n"
     ]
    }
   ],
   "source": [
    "print(\"The accuracy of the model on the test data set using k-fold cross validation is {0:5.2f} with std of {0:5.2f}\".format(Accuracies.mean()*100))"
   ]
  },
  {
   "cell_type": "code",
   "execution_count": null,
   "metadata": {},
   "outputs": [],
   "source": []
  },
  {
   "cell_type": "code",
   "execution_count": null,
   "metadata": {},
   "outputs": [],
   "source": []
  }
 ],
 "metadata": {
  "kernelspec": {
   "display_name": "Python 3",
   "language": "python",
   "name": "python3"
  },
  "language_info": {
   "codemirror_mode": {
    "name": "ipython",
    "version": 3
   },
   "file_extension": ".py",
   "mimetype": "text/x-python",
   "name": "python",
   "nbconvert_exporter": "python",
   "pygments_lexer": "ipython3",
   "version": "3.8.8"
  }
 },
 "nbformat": 4,
 "nbformat_minor": 2
}
