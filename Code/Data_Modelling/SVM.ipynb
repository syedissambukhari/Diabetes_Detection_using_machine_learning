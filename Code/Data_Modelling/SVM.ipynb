{
 "cells": [
  {
   "cell_type": "code",
   "execution_count": 1,
   "metadata": {},
   "outputs": [],
   "source": [
    "# import modules\n",
    "import pandas as pd\n",
    "import numpy as np\n",
    "import matplotlib.pyplot as plt\n",
    "import seaborn as sns\n",
    "import math\n",
    "from collections import defaultdict\n",
    "from time import time\n",
    "\n",
    "import pickle\n",
    "\n",
    "%matplotlib inline\n",
    "np.random.seed(100)"
   ]
  },
  {
   "cell_type": "code",
   "execution_count": 3,
   "metadata": {},
   "outputs": [],
   "source": [
    "# Importing Decision Tree\n",
    "from sklearn.svm import LinearSVC\n",
    "from sklearn.svm import SVC\n",
    "\n",
    "#For tuning the hyper-parameters\n",
    "\n",
    "from sklearn.model_selection import GridSearchCV\n",
    "from sklearn.model_selection import RandomizedSearchCV\n",
    "\n",
    "#importing metrics\n",
    "\n",
    "from sklearn.metrics import classification_report\n",
    "from sklearn.metrics import accuracy_score\n",
    "from sklearn.metrics import confusion_matrix"
   ]
  },
  {
   "cell_type": "code",
   "execution_count": 4,
   "metadata": {},
   "outputs": [],
   "source": [
    "# UnPickling data\n",
    "\n",
    "with open('F:\\Syed Issam Bukhari\\Diabetes Detection\\Pickles\\X_train.pickle','rb') as data:\n",
    "    X_train= pickle.load(data)\n",
    "\n",
    "with open('F:\\Syed Issam Bukhari\\Diabetes Detection\\Pickles\\X_test.pickle','rb') as data:\n",
    "    X_test=pickle.load(data)\n",
    "    \n",
    "\n",
    "with open('F:\\Syed Issam Bukhari\\Diabetes Detection\\Pickles\\Y_train.pickle','rb') as data:\n",
    "    Y_train=pickle.load(data)\n",
    "\n",
    "with open('F:\\Syed Issam Bukhari\\Diabetes Detection\\Pickles\\Y_test.pickle','rb') as data:\n",
    "    Y_test=pickle.load(data)\n",
    "    \n",
    "#unpickling df_model\n",
    "with open('F:\\Syed Issam Bukhari\\Diabetes Detection\\Pickles\\df_model.pickle','rb') as data:\n",
    "    df_model=pickle.load(data)\n"
   ]
  },
  {
   "cell_type": "code",
   "execution_count": 7,
   "metadata": {},
   "outputs": [],
   "source": [
    "base=LinearSVC(max_iter=2000)"
   ]
  },
  {
   "cell_type": "code",
   "execution_count": null,
   "metadata": {},
   "outputs": [],
   "source": [
    "import time\n",
    "t0=time.time()\n",
    "base.fit(X_train,Y_train)\n",
    "t1=time.time()-t0\n",
    "print(t1)"
   ]
  },
  {
   "cell_type": "code",
   "execution_count": 10,
   "metadata": {},
   "outputs": [
    {
     "name": "stdout",
     "output_type": "stream",
     "text": [
      "The training score is \n",
      "63.43873517786561\n",
      "The test score is\n"
     ]
    },
    {
     "data": {
      "text/plain": [
       "70.07874015748031"
      ]
     },
     "execution_count": 10,
     "metadata": {},
     "output_type": "execute_result"
    }
   ],
   "source": [
    "print(\"The training score is \")\n",
    "print(base.score(X_train,Y_train)*100)\n",
    "\n",
    "print(\"The test score is\")\n",
    "base.score(X_test,Y_test)*100"
   ]
  },
  {
   "cell_type": "code",
   "execution_count": 11,
   "metadata": {},
   "outputs": [],
   "source": [
    "base_1=SVC(max_iter=2000)"
   ]
  },
  {
   "cell_type": "code",
   "execution_count": 12,
   "metadata": {},
   "outputs": [
    {
     "name": "stdout",
     "output_type": "stream",
     "text": [
      "0.012157917022705078\n"
     ]
    }
   ],
   "source": [
    "t0=time.time()\n",
    "base_1.fit(X_train,Y_train)\n",
    "t1=time.time()-t0\n",
    "print(t1)"
   ]
  }
 ],
 "metadata": {
  "kernelspec": {
   "display_name": "Python 3",
   "language": "python",
   "name": "python3"
  },
  "language_info": {
   "codemirror_mode": {
    "name": "ipython",
    "version": 3
   },
   "file_extension": ".py",
   "mimetype": "text/x-python",
   "name": "python",
   "nbconvert_exporter": "python",
   "pygments_lexer": "ipython3",
   "version": "3.8.8"
  }
 },
 "nbformat": 4,
 "nbformat_minor": 4
}
